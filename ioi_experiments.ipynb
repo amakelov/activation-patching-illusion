{
 "cells": [
  {
   "cell_type": "code",
   "execution_count": 1,
   "metadata": {},
   "outputs": [
    {
     "name": "stderr",
     "output_type": "stream",
     "text": [
      "/home/amakelov/workspace/current/conda_envs/serimats/lib/python3.10/site-packages/tqdm/auto.py:21: TqdmWarning: IProgress not found. Please update jupyter and ipywidgets. See https://ipywidgets.readthedocs.io/en/stable/user_install.html\n",
      "  from .autonotebook import tqdm as notebook_tqdm\n"
     ]
    }
   ],
   "source": [
    "from common_imports import *\n",
    "from fact_utils import setup_counterfact, COUNTERFACT_PATH, get_covariance_path\n",
    "from model_utils import *\n",
    "from transformers import AutoModelForCausalLM, AutoTokenizer"
   ]
  },
  {
   "cell_type": "code",
   "execution_count": 2,
   "metadata": {},
   "outputs": [
    {
     "name": "stderr",
     "output_type": "stream",
     "text": [
      "Using pad_token, but it is not set yet.\n"
     ]
    },
    {
     "name": "stdout",
     "output_type": "stream",
     "text": [
      "Loaded pretrained model gpt2-small into HookedTransformer\n"
     ]
    }
   ],
   "source": [
    "model = get_model()"
   ]
  },
  {
   "cell_type": "code",
   "execution_count": null,
   "metadata": {},
   "outputs": [],
   "source": [
    "def edit_to_patch(a, b, W, Sigma, beta:float):\n",
    "    Sigma_pinv = torch.linalg.pinv(Sigma)\n",
    "    W_pinv = torch.linalg.pinv(W)\n",
    "    # solve the linear system W Sigma^+ W^T lambda = -\\beta^2 a - 2\\beta Wb\n",
    "    # for lambda\n",
    "    lambda_ = torch.linalg.solve(W @ Sigma_pinv @ W.T, -beta**2 * a - 2 * beta * W @ b)\n",
    "    # compute w as -W^+a -(2/beta)b -(1/beta^2)Sigma^+ W^T lambda\n",
    "    w = -W_pinv @ a - (2/beta) * b - (1/beta**2) * Sigma_pinv @ W.T @ lambda_\n",
    "    # alpha is sqrt(beta)\n",
    "    alpha = np.sqrt(beta)\n",
    "    # now, v is alpha * W^+a + alpha * w\n",
    "    v = alpha * W_pinv @ a + alpha * w\n",
    "    # finally, the objective is alpha^2 v^T Sigma v + 2 alpha b^T Sigma v\n",
    "    obj = alpha**2 * v.T @ Sigma @ v + 2 * alpha * b.T @ Sigma @ v\n",
    "    return v, obj"
   ]
  }
 ],
 "metadata": {
  "kernelspec": {
   "display_name": "Python 3.10.12",
   "language": "python",
   "name": "python3"
  },
  "language_info": {
   "codemirror_mode": {
    "name": "ipython",
    "version": 3
   },
   "file_extension": ".py",
   "mimetype": "text/x-python",
   "name": "python",
   "nbconvert_exporter": "python",
   "pygments_lexer": "ipython3",
   "version": "3.10.12"
  },
  "orig_nbformat": 4,
  "vscode": {
   "interpreter": {
    "hash": "fd8dbfdfd1a6a4c5f3a98a8b5f239185c4ac44e8c535538c941237e2ab93d1b0"
   }
  }
 },
 "nbformat": 4,
 "nbformat_minor": 2
}
